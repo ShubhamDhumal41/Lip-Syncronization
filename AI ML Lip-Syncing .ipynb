{
 "cells": [
  {
   "cell_type": "markdown",
   "id": "f859ed14",
   "metadata": {},
   "source": [
    "#### Q. The objective of this assignment is to demonstrate your skills in creating an AI model that is proficient in lip-syncing i.e. synchronizing an audio file with a video file. Your task is to ensure the model is accurately matching the lip movements of the characters in the given video file with the corresponding audio file."
   ]
  },
  {
   "cell_type": "code",
   "execution_count": 1,
   "id": "36cfd888",
   "metadata": {
    "scrolled": true
   },
   "outputs": [],
   "source": [
    "# The MoviePy library's VideoFileClip and AudioFileClip classes provide essential functionalities for tasks involving lip-syncing, video editing, and various multimedia applications.\n",
    "from moviepy.editor import VideoFileClip, AudioFileClip\n",
    "import os"
   ]
  },
  {
   "cell_type": "code",
   "execution_count": 2,
   "id": "131d9490",
   "metadata": {},
   "outputs": [],
   "source": [
    "# Storing Paths to video and audio files\n",
    "video_path = \"C:\\\\Users\\\\Shubham\\\\OneDrive\\\\Desktop\\\\Python\\\\TechNews.mp4\"\n",
    "audio_path = \"C:\\\\Users\\\\Shubham\\\\OneDrive\\\\Desktop\\\\Python\\\\output10.wav\""
   ]
  },
  {
   "cell_type": "code",
   "execution_count": 3,
   "id": "51fe42f7",
   "metadata": {},
   "outputs": [],
   "source": [
    "# Loading video and audio clips\n",
    "video_clip = VideoFileClip(video_path)\n",
    "audio_clip = AudioFileClip(audio_path)"
   ]
  },
  {
   "cell_type": "code",
   "execution_count": 4,
   "id": "e1a3c834",
   "metadata": {},
   "outputs": [],
   "source": [
    "# Setting the audio of the video clip to the loaded audio clip\n",
    "video_clip = video_clip.set_audio(audio_clip)"
   ]
  },
  {
   "cell_type": "code",
   "execution_count": 5,
   "id": "e85976f0",
   "metadata": {},
   "outputs": [],
   "source": [
    "# Setting the duration of the video clip to match the duration of the audio clip\n",
    "video_clip = video_clip.set_duration(audio_clip.duration)"
   ]
  },
  {
   "cell_type": "code",
   "execution_count": 6,
   "id": "92113bdd",
   "metadata": {},
   "outputs": [],
   "source": [
    "# Specifying the output path for the lip-synced video\n",
    "output_path = \"C:\\\\Users\\\\Shubham\\\\OneDrive\\\\Desktop\\\\Python\\Output5.mp4\""
   ]
  },
  {
   "cell_type": "code",
   "execution_count": 7,
   "id": "a20453f1",
   "metadata": {},
   "outputs": [
    {
     "name": "stdout",
     "output_type": "stream",
     "text": [
      "Moviepy - Building video C:\\Users\\Shubham\\OneDrive\\Desktop\\Python\\Output5.mp4.\n",
      "MoviePy - Writing audio in Output5TEMP_MPY_wvf_snd.mp4\n"
     ]
    },
    {
     "name": "stderr",
     "output_type": "stream",
     "text": [
      "                                                                                                                       \r"
     ]
    },
    {
     "name": "stdout",
     "output_type": "stream",
     "text": [
      "MoviePy - Done.\n",
      "Moviepy - Writing video C:\\Users\\Shubham\\OneDrive\\Desktop\\Python\\Output5.mp4\n",
      "\n"
     ]
    },
    {
     "name": "stderr",
     "output_type": "stream",
     "text": [
      "                                                                                                                       \r"
     ]
    },
    {
     "name": "stdout",
     "output_type": "stream",
     "text": [
      "Moviepy - Done !\n",
      "Moviepy - video ready C:\\Users\\Shubham\\OneDrive\\Desktop\\Python\\Output5.mp4\n"
     ]
    }
   ],
   "source": [
    "# Stored the final lip-synced video to the specified output path\n",
    "video_clip.write_videofile(output_path, codec='libx264', audio_codec='aac')"
   ]
  },
  {
   "cell_type": "code",
   "execution_count": 8,
   "id": "b41614c5",
   "metadata": {},
   "outputs": [
    {
     "data": {
      "text/plain": [
       "0"
      ]
     },
     "execution_count": 8,
     "metadata": {},
     "output_type": "execute_result"
    }
   ],
   "source": [
    "# Lip-Synced Video is Successfully stored and Autoplayed by system\n",
    "os.system(f\"start {output_path}\")"
   ]
  },
  {
   "cell_type": "markdown",
   "id": "bf5478ea",
   "metadata": {},
   "source": [
    "### The resulting lip-synced video provides a seamless and natural visual and auditory experience for the viewer, showcasing the proficiency of the AI model in lip-syncing tasks. MoviePy's user-friendly interface and flexible features make it an excellent tool for handling video and audio processing tasks, further enhancing the potential applications of lip-syncing technology in various multimedia projects."
   ]
  },
  {
   "cell_type": "code",
   "execution_count": null,
   "id": "30c18002",
   "metadata": {},
   "outputs": [],
   "source": []
  }
 ],
 "metadata": {
  "kernelspec": {
   "display_name": "Python 3 (ipykernel)",
   "language": "python",
   "name": "python3"
  },
  "language_info": {
   "codemirror_mode": {
    "name": "ipython",
    "version": 3
   },
   "file_extension": ".py",
   "mimetype": "text/x-python",
   "name": "python",
   "nbconvert_exporter": "python",
   "pygments_lexer": "ipython3",
   "version": "3.9.13"
  }
 },
 "nbformat": 4,
 "nbformat_minor": 5
}
